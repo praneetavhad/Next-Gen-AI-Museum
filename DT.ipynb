{
 "cells": [
  {
   "cell_type": "code",
   "execution_count": 8,
   "id": "bc42f968",
   "metadata": {},
   "outputs": [],
   "source": [
    "def load_dataset(txt_file):\n",
    "    data, labels = [], []\n",
    "    \n",
    "    with open(txt_file, 'r') as file:\n",
    "        for line in file.readlines():\n",
    "            image_path = line.strip()\n",
    "            full_path = os.path.join(image_path)\n",
    "            if os.path.exists(full_path):\n",
    "                label = image_path.split('/')[1] \n",
    "                data.append(full_path)\n",
    "                labels.append(label)\n",
    "    \n",
    "    return pd.DataFrame({'image_path': data, 'label': labels})"
   ]
  },
  {
   "cell_type": "code",
   "execution_count": null,
   "id": "76cb1578",
   "metadata": {},
   "outputs": [],
   "source": [
    "input_file = \"train.txt\"  # Replace with your actual filename\n",
    "output_file = \"train2.txt\"  # The filtered output file\n",
    "\n",
    "# Read the file and filter lines\n",
    "with open(input_file, \"r\") as f:\n",
    "    lines = f.readlines()\n",
    "\n",
    "# Keep lines that contain \"museum-indoor\" or \"museum-outdoor\"\n",
    "filtered_lines = [line.strip() for line in lines if \"museum-indoor\" in line or \"museum-outdoor\" in line]\n",
    "\n",
    "# Write the filtered lines to the output file\n",
    "with open(output_file, \"w\") as f:\n",
    "    for line in filtered_lines:\n",
    "        f.write(line + \"\\n\")\n",
    "\n",
    "print(\"Filtering complete. Check\", output_file)"
   ]
  },
  {
   "cell_type": "code",
   "execution_count": 9,
   "id": "a6e502e1",
   "metadata": {},
   "outputs": [
    {
     "name": "stdout",
     "output_type": "stream",
     "text": [
      "Dataset Loaded: (10000, 2)\n",
      "                          image_path           label\n",
      "0  train/museum-outdoor/00002789.jpg  museum-outdoor\n",
      "1  train/museum-outdoor/00001215.jpg  museum-outdoor\n",
      "2  train/museum-outdoor/00002469.jpg  museum-outdoor\n",
      "3  train/museum-outdoor/00000891.jpg  museum-outdoor\n",
      "4  train/museum-outdoor/00000515.jpg  museum-outdoor\n",
      "Features Shape: (10000, 768)\n",
      "Labels Shape: (10000,)\n"
     ]
    }
   ],
   "source": [
    "import os\n",
    "import cv2\n",
    "import numpy as np\n",
    "import pandas as pd\n",
    "import joblib\n",
    "from sklearn.preprocessing import LabelEncoder\n",
    "from sklearn.tree import DecisionTreeClassifier\n",
    "\n",
    "# ---- 1. Load Dataset ----\n",
    "\n",
    "# ---- 2. Feature Extraction ----\n",
    "def extract_features(image_path):\n",
    "    image = cv2.imread(image_path)\n",
    "    image = cv2.resize(image, (64, 64))  # Resize for uniformity\n",
    "    \n",
    "    # Compute histograms for each color channel (Blue, Green, Red)\n",
    "    hist_b = cv2.calcHist([image], [0], None, [256], [0, 256])\n",
    "    hist_g = cv2.calcHist([image], [1], None, [256], [0, 256])\n",
    "    hist_r = cv2.calcHist([image], [2], None, [256], [0, 256])\n",
    "\n",
    "    # Normalize histograms\n",
    "    hist_b = cv2.normalize(hist_b, hist_b).flatten()\n",
    "    hist_g = cv2.normalize(hist_g, hist_g).flatten()\n",
    "    hist_r = cv2.normalize(hist_r, hist_r).flatten()\n",
    "\n",
    "    # Concatenate histograms into a single feature vector\n",
    "    feature_vector = np.concatenate([hist_b, hist_g, hist_r])\n",
    "\n",
    "    return feature_vector\n",
    "# ---- 3. Load & Process Dataset ----\n",
    "train_txt = \"train.txt\"  # Your txt file listing images\n",
    "\n",
    "dataset = load_dataset(train_txt)\n",
    "\n",
    "# Extract features for all images\n",
    "features = np.array([extract_features(path) for path in dataset['image_path']])\n",
    "encoder = LabelEncoder()\n",
    "y_encoded = encoder.fit_transform(dataset['label'])\n",
    "print(\"Dataset Loaded:\", dataset.shape)\n",
    "print(dataset.head())\n",
    "print(\"Features Shape:\", features.shape)  # Should be (num_samples, num_features)\n",
    "print(\"Labels Shape:\", y_encoded.shape)  # Should be (num_samples,)\n",
    "\n",
    "\n"
   ]
  },
  {
   "cell_type": "code",
   "execution_count": 11,
   "id": "11cb159e",
   "metadata": {},
   "outputs": [
    {
     "name": "stdout",
     "output_type": "stream",
     "text": [
      "Model saved as decision_tree.pkl\n"
     ]
    }
   ],
   "source": [
    "dt_model = DecisionTreeClassifier(max_depth=10)  # You can change max_depth\n",
    "dt_model.fit(features, y_encoded)\n",
    "\n",
    "# ---- 5. Save the Model ----\n",
    "joblib.dump(dt_model, \"decision_tree.pkl\")\n",
    "joblib.dump(encoder, \"label_encoder.pkl\")  # Save label encoder to decode predictions\n",
    "print(\"Model saved as decision_tree.pkl\")\n"
   ]
  },
  {
   "cell_type": "code",
   "execution_count": 12,
   "id": "e41f1b13",
   "metadata": {},
   "outputs": [
    {
     "name": "stdout",
     "output_type": "stream",
     "text": [
      "                                      image_path           label\n",
      "0  val/museum-outdoor/Places365_val_00010130.jpg  museum-outdoor\n",
      "1  val/museum-outdoor/Places365_val_00001310.jpg  museum-outdoor\n",
      "2  val/museum-outdoor/Places365_val_00004772.jpg  museum-outdoor\n",
      "3  val/museum-outdoor/Places365_val_00019233.jpg  museum-outdoor\n",
      "4  val/museum-outdoor/Places365_val_00010906.jpg  museum-outdoor\n",
      "[[0.16869023 0.20072003 0.3202979  ... 0.02421181 0.01100537 0.04402148]\n",
      " [0.         0.         0.         ... 0.         0.         0.        ]\n",
      " [0.         0.         0.         ... 0.01350957 0.02161531 0.01891339]\n",
      " ...\n",
      " [0.36373875 0.27965844 0.27051926 ... 0.0027731  0.0027731  0.00554619]\n",
      " [0.         0.         0.         ... 0.02896342 0.02633038 0.01579823]\n",
      " [0.00734231 0.01560241 0.0247803  ... 0.         0.         0.00146194]]\n",
      "Predictions saved in test_predictions.csv\n",
      "Accuracy: 0.7550\n",
      "Classification Report:\n",
      "                 precision    recall  f1-score   support\n",
      "\n",
      " museum-indoor     0.7476    0.7700    0.7586       100\n",
      "museum-outdoor     0.7629    0.7400    0.7513       100\n",
      "\n",
      "      accuracy                         0.7550       200\n",
      "     macro avg     0.7552    0.7550    0.7549       200\n",
      "  weighted avg     0.7552    0.7550    0.7549       200\n",
      "\n"
     ]
    }
   ],
   "source": [
    "import joblib\n",
    "import numpy as np\n",
    "import pandas as pd\n",
    "import cv2\n",
    "import os\n",
    "from sklearn.metrics import accuracy_score, classification_report, confusion_matrix\n",
    "\n",
    "# ---- Load Trained Model & Label Encoder ----\n",
    "dt_model = joblib.load(\"decision_tree_model.pkl\")\n",
    "encoder = joblib.load(\"label_encoder.pkl\")\n",
    "\n",
    "# ---- Load Test Dataset ----\n",
    "test_txt = \"val.txt\"  # Change to your test dataset file\n",
    "test_dataset = load_dataset(test_txt)\n",
    "print(test_dataset.head())\n",
    "\n",
    "# Extract features\n",
    "test_features = np.array([extract_features(path) for path in test_dataset['image_path']])\n",
    "print(test_features)\n",
    "\n",
    "# ---- Predict ----\n",
    "predictions = dt_model.predict(test_features)\n",
    "predicted_labels = encoder.inverse_transform(predictions)  # Convert back to original labels\n",
    "\n",
    "# ---- Save Predictions ----\n",
    "test_dataset['Predicted Label'] = predicted_labels\n",
    "test_dataset.to_csv(\"test_predictions.csv\", index=False)\n",
    "print(\"Predictions saved in test_predictions.csv\")\n",
    "\n",
    "# ---- Compute Accuracy & Metrics ----\n",
    "y_true = encoder.transform(test_dataset['label'])\n",
    "accuracy = accuracy_score(y_true, predictions)\n",
    "report = classification_report(y_true, predictions, target_names=encoder.classes_, digits=4)\n",
    "\n",
    "print(f\"Accuracy: {accuracy:.4f}\")\n",
    "print(\"Classification Report:\\n\", report)\n"
   ]
  },
  {
   "cell_type": "code",
   "execution_count": null,
   "id": "aea37836",
   "metadata": {},
   "outputs": [],
   "source": []
  }
 ],
 "metadata": {
  "kernelspec": {
   "display_name": "Python 3 (ipykernel)",
   "language": "python",
   "name": "python3"
  },
  "language_info": {
   "codemirror_mode": {
    "name": "ipython",
    "version": 3
   },
   "file_extension": ".py",
   "mimetype": "text/x-python",
   "name": "python",
   "nbconvert_exporter": "python",
   "pygments_lexer": "ipython3",
   "version": "3.9.7"
  }
 },
 "nbformat": 4,
 "nbformat_minor": 5
}
