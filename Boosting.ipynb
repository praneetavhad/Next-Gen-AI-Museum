{
 "cells": [
  {
   "cell_type": "code",
   "execution_count": 1,
   "id": "fdff1b30",
   "metadata": {},
   "outputs": [
    {
     "name": "stdout",
     "output_type": "stream",
     "text": [
      "Collecting xgboost\n",
      "  Downloading xgboost-2.1.4-py3-none-win_amd64.whl (124.9 MB)\n",
      "Requirement already satisfied: numpy in c:\\programdata\\anaconda3\\lib\\site-packages (from xgboost) (1.20.3)\n",
      "Requirement already satisfied: scipy in c:\\programdata\\anaconda3\\lib\\site-packages (from xgboost) (1.7.1)\n",
      "Installing collected packages: xgboost\n",
      "Successfully installed xgboost-2.1.4\n",
      "Note: you may need to restart the kernel to use updated packages.\n"
     ]
    }
   ],
   "source": [
    "pip install xgboost\n"
   ]
  },
  {
   "cell_type": "code",
   "execution_count": 1,
   "id": "965ae445",
   "metadata": {},
   "outputs": [],
   "source": [
    "def load_dataset(txt_file):\n",
    "    data, labels = [], []\n",
    "    \n",
    "    with open(txt_file, 'r') as file:\n",
    "        for line in file.readlines():\n",
    "            image_path = line.strip()\n",
    "            full_path = os.path.join(image_path)\n",
    "            if os.path.exists(full_path):\n",
    "                label = image_path.split('/')[1] \n",
    "                data.append(full_path)\n",
    "                labels.append(label)\n",
    "    \n",
    "    return pd.DataFrame({'image_path': data, 'label': labels})"
   ]
  },
  {
   "cell_type": "code",
   "execution_count": 4,
   "id": "0689c446",
   "metadata": {},
   "outputs": [
    {
     "name": "stdout",
     "output_type": "stream",
     "text": [
      "Model saved as xgboost_model.pkl\n"
     ]
    }
   ],
   "source": [
    "import os\n",
    "import cv2\n",
    "import numpy as np\n",
    "import pandas as pd\n",
    "import joblib\n",
    "import xgboost as xgb\n",
    "import matplotlib.pyplot as plt\n",
    "import seaborn as sns\n",
    "from sklearn.preprocessing import LabelEncoder\n",
    "from sklearn.metrics import accuracy_score, classification_report, confusion_matrix\n",
    "\n",
    "# ---- 1. Load Dataset ----\n",
    "def extract_features(image_path):\n",
    "    image = cv2.imread(image_path)\n",
    "    \n",
    "    if image is None:\n",
    "        print(f\"Error: Unable to read image {image_path}\")\n",
    "        return None  # Skip this image\n",
    "    \n",
    "    image = cv2.resize(image, (64, 64))  # Resize for uniformity\n",
    "    image = cv2.cvtColor(image, cv2.COLOR_BGR2GRAY)  # Convert to grayscale\n",
    "\n",
    "    # Flatten image pixels into a 1D feature vector\n",
    "    feature_vector = image.flatten()  # Shape: (64*64,) = (4096,)\n",
    "\n",
    "    return feature_vector\n",
    "\n",
    "# ---- 3. Load & Process Dataset ----\n",
    "train_txt = \"train2.txt\"  # Your txt file listing images\n",
    "\n",
    "dataset = load_dataset(train_txt)\n",
    "\n",
    "# Extract features for all images\n",
    "features = []\n",
    "for path in dataset['image_path']:\n",
    "    feature = extract_features(path)\n",
    "    if feature is not None:\n",
    "        features.append(feature)\n",
    "\n",
    "features = np.array(features)  # Convert list to numpy array\n",
    "encoder = LabelEncoder()\n",
    "y_encoded = encoder.fit_transform(dataset['label'])\n",
    "\n",
    "# ---- Train XGBoost Model ----\n",
    "xgb_model = xgb.XGBClassifier(n_estimators=100, max_depth=10, learning_rate=0.1, random_state=42)  \n",
    "xgb_model.fit(features, y_encoded)\n",
    "\n",
    "# ---- Save the Model ----\n",
    "joblib.dump(xgb_model, \"xgboost_model.pkl\")\n",
    "joblib.dump(encoder, \"label_encoder.pkl\")\n",
    "print(\"Model saved as xgboost_model.pkl\")\n"
   ]
  },
  {
   "cell_type": "code",
   "execution_count": 7,
   "id": "e6d8f75e",
   "metadata": {},
   "outputs": [
    {
     "name": "stdout",
     "output_type": "stream",
     "text": [
      "                                      image_path           label\n",
      "0  val/museum-outdoor/Places365_val_00010130.jpg  museum-outdoor\n",
      "1  val/museum-outdoor/Places365_val_00001310.jpg  museum-outdoor\n",
      "2  val/museum-outdoor/Places365_val_00004772.jpg  museum-outdoor\n",
      "3  val/museum-outdoor/Places365_val_00019233.jpg  museum-outdoor\n",
      "4  val/museum-outdoor/Places365_val_00010906.jpg  museum-outdoor\n",
      "Predictions saved in test_predictions_xgb.csv\n",
      "Accuracy: 0.7800\n",
      "Classification Report:\n",
      "                 precision    recall  f1-score   support\n",
      "\n",
      " museum-indoor     0.7593    0.8200    0.7885       100\n",
      "museum-outdoor     0.8043    0.7400    0.7708       100\n",
      "\n",
      "      accuracy                         0.7800       200\n",
      "     macro avg     0.7818    0.7800    0.7796       200\n",
      "  weighted avg     0.7818    0.7800    0.7796       200\n",
      "\n",
      "Confusion Matrix:\n",
      "[[82 18]\n",
      " [26 74]]\n"
     ]
    }
   ],
   "source": [
    "import joblib\n",
    "import numpy as np\n",
    "import pandas as pd\n",
    "import cv2\n",
    "import os\n",
    "import matplotlib.pyplot as plt\n",
    "from sklearn.metrics import accuracy_score, classification_report, confusion_matrix\n",
    "\n",
    "# ---- Load Trained Model & Label Encoder ----\n",
    "xgb_model = joblib.load(\"xgboost_model.pkl\")\n",
    "encoder = joblib.load(\"label_encoder.pkl\")\n",
    "\n",
    "# ---- Load Test Dataset ----\n",
    "test_txt = \"val.txt\"  # Change to your test dataset file\n",
    "test_dataset = load_dataset(test_txt)\n",
    "print(test_dataset.head())\n",
    "\n",
    "# Extract features\n",
    "test_features = np.array([extract_features(path) for path in test_dataset['image_path']])\n",
    "\n",
    "# ---- Predict ----\n",
    "predictions = xgb_model.predict(test_features)\n",
    "predicted_labels = encoder.inverse_transform(predictions)  # Convert back to original labels\n",
    "\n",
    "# ---- Save Predictions ----\n",
    "test_dataset['Predicted Label'] = predicted_labels\n",
    "test_dataset.to_csv(\"test_predictions_xgb.csv\", index=False)\n",
    "print(\"Predictions saved in test_predictions_xgb.csv\")\n",
    "\n",
    "# ---- Compute Accuracy & Metrics ----\n",
    "y_true = encoder.transform(test_dataset['label'])\n",
    "accuracy = accuracy_score(y_true, predictions)\n",
    "report = classification_report(y_true, predictions, target_names=encoder.classes_, digits=4)\n",
    "\n",
    "print(f\"Accuracy: {accuracy:.4f}\")\n",
    "print(\"Classification Report:\\n\", report)\n",
    "\n",
    "# ---- Confusion Matrix ----\n",
    "conf_matrix = confusion_matrix(y_true, predictions)\n",
    "print(\"Confusion Matrix:\")\n",
    "print(conf_matrix)"
   ]
  },
  {
   "cell_type": "code",
   "execution_count": null,
   "id": "fa5f4d03",
   "metadata": {},
   "outputs": [],
   "source": []
  }
 ],
 "metadata": {
  "kernelspec": {
   "display_name": "Python 3 (ipykernel)",
   "language": "python",
   "name": "python3"
  },
  "language_info": {
   "codemirror_mode": {
    "name": "ipython",
    "version": 3
   },
   "file_extension": ".py",
   "mimetype": "text/x-python",
   "name": "python",
   "nbconvert_exporter": "python",
   "pygments_lexer": "ipython3",
   "version": "3.9.7"
  }
 },
 "nbformat": 4,
 "nbformat_minor": 5
}
