{
 "cells": [
  {
   "cell_type": "code",
   "execution_count": 19,
   "id": "3fb87e5c",
   "metadata": {},
   "outputs": [],
   "source": [
    "import os\n",
    "import cv2\n",
    "import numpy as np\n",
    "import pandas as pd\n",
    "import joblib\n",
    "from sklearn.tree import DecisionTreeClassifier\n",
    "from sklearn.preprocessing import LabelEncoder\n",
    "from sklearn.metrics import accuracy_score, classification_report, confusion_matrix\n"
   ]
  },
  {
   "cell_type": "code",
   "execution_count": 20,
   "id": "f34346f9",
   "metadata": {},
   "outputs": [],
   "source": [
    "def create_unlabeled_data(source_file, destination_file):\n",
    "    \"\"\"Creates an unlabeled dataset by copying paths from a labeled dataset file.\"\"\"\n",
    "    with open(source_file, 'r') as f:\n",
    "        paths = f.readlines()\n",
    "    with open(destination_file, 'w') as f:\n",
    "        f.writelines(paths)\n",
    "    print(f\"Unlabeled dataset created: {destination_file}\")"
   ]
  },
  {
   "cell_type": "code",
   "execution_count": 21,
   "id": "fa86e939",
   "metadata": {},
   "outputs": [],
   "source": [
    "def parse_image_dataset(file_path):\n",
    "    \"\"\"Reads image paths and labels from a dataset file.\"\"\"\n",
    "    paths, labels = [], []\n",
    "    with open(file_path, 'r') as f:\n",
    "        for line in f:\n",
    "            img_path = line.strip()\n",
    "            if os.path.exists(img_path):\n",
    "                category = img_path.split('/')[1]\n",
    "                paths.append(img_path)\n",
    "                labels.append(category)\n",
    "    return pd.DataFrame({'image': paths, 'label': labels})"
   ]
  },
  {
   "cell_type": "code",
   "execution_count": 22,
   "id": "2254b0b4",
   "metadata": {},
   "outputs": [],
   "source": [
    "def compute_histogram_features(img_path):\n",
    "    \"\"\"Extracts histogram features from an image.\"\"\"\n",
    "    img = cv2.imread(img_path)\n",
    "    img = cv2.resize(img, (64, 64))\n",
    "    hist_features = [cv2.calcHist([img], [i], None, [256], [0, 256]).flatten() for i in range(3)]\n",
    "    return np.concatenate(hist_features)"
   ]
  },
  {
   "cell_type": "code",
   "execution_count": 23,
   "id": "3cfc8a0a",
   "metadata": {},
   "outputs": [
    {
     "name": "stdout",
     "output_type": "stream",
     "text": [
      "Unlabeled dataset created: unlabeled.txt\n"
     ]
    }
   ],
   "source": [
    "# Prepare dataset\n",
    "train_file = \"train2.txt\"\n",
    "unlabeled_file = \"unlabeled.txt\"\n",
    "create_unlabeled_data(train_file, unlabeled_file)\n",
    "\n",
    "data = parse_image_dataset(train_file)\n",
    "features = np.array([compute_histogram_features(path) for path in data['image']])\n",
    "label_encoder = LabelEncoder()\n",
    "y_encoded = label_encoder.fit_transform(data['label'])"
   ]
  },
  {
   "cell_type": "code",
   "execution_count": 24,
   "id": "b0b54d6a",
   "metadata": {},
   "outputs": [
    {
     "name": "stdout",
     "output_type": "stream",
     "text": [
      "Model and encoder saved.\n"
     ]
    }
   ],
   "source": [
    "# Train Decision Tree Classifier\n",
    "dt_model = DecisionTreeClassifier(random_state=42)\n",
    "dt_model.fit(features, y_encoded)\n",
    "\n",
    "# Save trained model and encoder\n",
    "joblib.dump(dt_model, \"decision_tree_model.pkl\")\n",
    "joblib.dump(label_encoder, \"label_encoder.pkl\")\n",
    "print(\"Model and encoder saved.\")"
   ]
  },
  {
   "cell_type": "code",
   "execution_count": 25,
   "id": "60a1dd1d",
   "metadata": {},
   "outputs": [],
   "source": [
    "# Load test dataset\n",
    "test_file = \"val.txt\"\n",
    "test_data = parse_image_dataset(test_file)\n",
    "test_features = np.array([compute_histogram_features(path) for path in test_data['image']])"
   ]
  },
  {
   "cell_type": "code",
   "execution_count": 26,
   "id": "a9adfb8d",
   "metadata": {},
   "outputs": [],
   "source": [
    "# Make predictions\n",
    "loaded_model = joblib.load(\"decision_tree_model.pkl\")\n",
    "loaded_encoder = joblib.load(\"label_encoder.pkl\")\n",
    "predictions = loaded_model.predict(test_features)\n",
    "predicted_labels = loaded_encoder.inverse_transform(predictions)\n",
    "\n",
    "test_data['Predicted'] = predicted_labels\n",
    "test_data.to_csv(\"test_predictions.csv\", index=False)"
   ]
  },
  {
   "cell_type": "code",
   "execution_count": 27,
   "id": "cd1a93c2",
   "metadata": {},
   "outputs": [
    {
     "name": "stdout",
     "output_type": "stream",
     "text": [
      "Accuracy: 0.7500\n",
      "Classification Report:\n",
      "                 precision    recall  f1-score   support\n",
      "\n",
      " museum-indoor       0.76      0.74      0.75       100\n",
      "museum-outdoor       0.75      0.76      0.75       100\n",
      "\n",
      "      accuracy                           0.75       200\n",
      "     macro avg       0.75      0.75      0.75       200\n",
      "  weighted avg       0.75      0.75      0.75       200\n",
      "\n",
      "Confusion Matrix:\n",
      "[[74 26]\n",
      " [24 76]]\n"
     ]
    }
   ],
   "source": [
    "# Evaluate model\n",
    "true_labels_encoded = loaded_encoder.transform(test_data['label'])\n",
    "accuracy = accuracy_score(true_labels_encoded, predictions)\n",
    "report = classification_report(true_labels_encoded, predictions, target_names=loaded_encoder.classes_)\n",
    "print(f\"Accuracy: {accuracy:.4f}\")\n",
    "print(\"Classification Report:\\n\", report)\n",
    "# ---- Confusion Matrix ----\n",
    "conf_matrix = confusion_matrix(true_labels_encoded, predictions)\n",
    "print(\"Confusion Matrix:\")\n",
    "print(conf_matrix)"
   ]
  }
 ],
 "metadata": {
  "kernelspec": {
   "display_name": "Python 3 (ipykernel)",
   "language": "python",
   "name": "python3"
  },
  "language_info": {
   "codemirror_mode": {
    "name": "ipython",
    "version": 3
   },
   "file_extension": ".py",
   "mimetype": "text/x-python",
   "name": "python",
   "nbconvert_exporter": "python",
   "pygments_lexer": "ipython3",
   "version": "3.9.6"
  }
 },
 "nbformat": 4,
 "nbformat_minor": 5
}
