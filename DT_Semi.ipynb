{
 "cells": [
  {
   "cell_type": "code",
   "execution_count": 1,
   "id": "e37311c9",
   "metadata": {},
   "outputs": [],
   "source": [
    "def load_dataset(txt_file):\n",
    "    data, labels = [], []\n",
    "    \n",
    "    with open(txt_file, 'r') as file:\n",
    "        for line in file.readlines():\n",
    "            image_path = line.strip()\n",
    "            full_path = os.path.join(image_path)\n",
    "            if os.path.exists(full_path):\n",
    "                label = image_path.split('/')[1] \n",
    "                data.append(full_path)\n",
    "                labels.append(label)\n",
    "    \n",
    "    return pd.DataFrame({'image_path': data, 'label': labels})"
   ]
  },
  {
   "cell_type": "code",
   "execution_count": 2,
   "id": "25a33e6b",
   "metadata": {},
   "outputs": [
    {
     "name": "stdout",
     "output_type": "stream",
     "text": [
      "Semi-Supervised Model saved as semi_supervised_dt.pkl\n"
     ]
    }
   ],
   "source": [
    "import os\n",
    "import cv2\n",
    "import numpy as np\n",
    "import pandas as pd\n",
    "import joblib\n",
    "from sklearn.preprocessing import LabelEncoder\n",
    "from sklearn.tree import DecisionTreeClassifier\n",
    "from sklearn.semi_supervised import SelfTrainingClassifier\n",
    "from sklearn.metrics import accuracy_score, classification_report, confusion_matrix\n",
    "\n",
    "# ---- 1. Load Dataset ----\n",
    "def extract_features(image_path):\n",
    "    image = cv2.imread(image_path)\n",
    "    if image is None:\n",
    "        print(f\"Error: Unable to read image {image_path}\")\n",
    "        return None\n",
    "    \n",
    "    image = cv2.resize(image, (64, 64))  \n",
    "    image = cv2.cvtColor(image, cv2.COLOR_BGR2GRAY)  \n",
    "    return image.flatten()  # Flatten pixels\n",
    "\n",
    "# ---- 2. Load Train Dataset ----\n",
    "train_txt = \"train2.txt\"\n",
    "dataset = load_dataset(train_txt)\n",
    "\n",
    "features = []\n",
    "labels = []\n",
    "for path, label in zip(dataset['image_path'], dataset['label']):\n",
    "    feature = extract_features(path)\n",
    "    if feature is not None:\n",
    "        features.append(feature)\n",
    "        labels.append(label)\n",
    "\n",
    "features = np.array(features)\n",
    "encoder = LabelEncoder()\n",
    "y_encoded = encoder.fit_transform(labels)\n",
    "\n",
    "# ---- 3. Create Labeled & Unlabeled Data ----\n",
    "# Mark some labels as -1 (unlabeled)\n",
    "y_semi_supervised = np.copy(y_encoded)\n",
    "y_semi_supervised[:len(y_encoded)//2] = -1  # Assume first half is unlabeled\n",
    "\n",
    "# ---- 4. Train Semi-Supervised Model ----\n",
    "dt_base = DecisionTreeClassifier(max_depth=10)\n",
    "self_training_model = SelfTrainingClassifier(dt_base, criterion=\"threshold\", threshold=0.8)\n",
    "self_training_model.fit(features, y_semi_supervised)\n",
    "\n",
    "# ---- 5. Save Model ----\n",
    "joblib.dump(self_training_model, \"semi_supervised_dt.pkl\")\n",
    "joblib.dump(encoder, \"label_encoder.pkl\")\n",
    "print(\"Semi-Supervised Model saved as semi_supervised_dt.pkl\")"
   ]
  },
  {
   "cell_type": "code",
   "execution_count": 5,
   "id": "067a3524",
   "metadata": {},
   "outputs": [
    {
     "name": "stdout",
     "output_type": "stream",
     "text": [
      "Predictions saved in semi_supervised_predictions.csv\n",
      "Accuracy: 0.5000\n",
      "Classification Report:\n",
      "                 precision    recall  f1-score   support\n",
      "\n",
      " museum-indoor     0.5000    1.0000    0.6667       100\n",
      "museum-outdoor     0.0000    0.0000    0.0000       100\n",
      "\n",
      "      accuracy                         0.5000       200\n",
      "     macro avg     0.2500    0.5000    0.3333       200\n",
      "  weighted avg     0.2500    0.5000    0.3333       200\n",
      "\n",
      "Confusion Matrix:\n",
      " [[100   0]\n",
      " [100   0]]\n"
     ]
    },
    {
     "name": "stderr",
     "output_type": "stream",
     "text": [
      "C:\\ProgramData\\Anaconda3\\lib\\site-packages\\sklearn\\metrics\\_classification.py:1248: UndefinedMetricWarning: Precision and F-score are ill-defined and being set to 0.0 in labels with no predicted samples. Use `zero_division` parameter to control this behavior.\n",
      "  _warn_prf(average, modifier, msg_start, len(result))\n",
      "C:\\ProgramData\\Anaconda3\\lib\\site-packages\\sklearn\\metrics\\_classification.py:1248: UndefinedMetricWarning: Precision and F-score are ill-defined and being set to 0.0 in labels with no predicted samples. Use `zero_division` parameter to control this behavior.\n",
      "  _warn_prf(average, modifier, msg_start, len(result))\n",
      "C:\\ProgramData\\Anaconda3\\lib\\site-packages\\sklearn\\metrics\\_classification.py:1248: UndefinedMetricWarning: Precision and F-score are ill-defined and being set to 0.0 in labels with no predicted samples. Use `zero_division` parameter to control this behavior.\n",
      "  _warn_prf(average, modifier, msg_start, len(result))\n"
     ]
    }
   ],
   "source": [
    "import os\n",
    "import cv2\n",
    "import numpy as np\n",
    "import pandas as pd\n",
    "import joblib\n",
    "from sklearn.preprocessing import LabelEncoder\n",
    "from sklearn.tree import DecisionTreeClassifier\n",
    "from sklearn.semi_supervised import SelfTrainingClassifier\n",
    "from sklearn.metrics import accuracy_score, classification_report, confusion_matrix\n",
    "\n",
    "test_txt = \"val.txt\"\n",
    "test_dataset = load_dataset(test_txt)\n",
    "\n",
    "test_features = np.array([extract_features(path) for path in test_dataset['image_path']])\n",
    "y_true = encoder.transform(test_dataset['label'])\n",
    "\n",
    "# ---- 7. Predict & Evaluate ----\n",
    "predictions = self_training_model.predict(test_features)\n",
    "predicted_labels = encoder.inverse_transform(predictions)\n",
    "\n",
    "# ---- 8. Save Predictions ----\n",
    "test_dataset['Predicted Label'] = predicted_labels\n",
    "test_dataset.to_csv(\"semi_supervised_predictions.csv\", index=False)\n",
    "print(\"Predictions saved in semi_supervised_predictions.csv\")\n",
    "\n",
    "# ---- 9. Compute Accuracy & Confusion Matrix ----\n",
    "accuracy = accuracy_score(y_true, predictions)\n",
    "report = classification_report(y_true, predictions, target_names=encoder.classes_, digits=4)\n",
    "conf_matrix = confusion_matrix(y_true, predictions)\n",
    "\n",
    "print(f\"Accuracy: {accuracy:.4f}\")\n",
    "print(\"Classification Report:\\n\", report)\n",
    "print(\"Confusion Matrix:\\n\", conf_matrix)"
   ]
  },
  {
   "cell_type": "code",
   "execution_count": null,
   "id": "e6e499dc",
   "metadata": {},
   "outputs": [],
   "source": []
  }
 ],
 "metadata": {
  "kernelspec": {
   "display_name": "Python 3 (ipykernel)",
   "language": "python",
   "name": "python3"
  },
  "language_info": {
   "codemirror_mode": {
    "name": "ipython",
    "version": 3
   },
   "file_extension": ".py",
   "mimetype": "text/x-python",
   "name": "python",
   "nbconvert_exporter": "python",
   "pygments_lexer": "ipython3",
   "version": "3.9.7"
  }
 },
 "nbformat": 4,
 "nbformat_minor": 5
}
